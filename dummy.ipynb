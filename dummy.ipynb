{
 "cells": [
  {
   "cell_type": "code",
   "execution_count": 1,
   "metadata": {},
   "outputs": [],
   "source": [
    "import torch\n",
    "from models.ae import IRVAE\n",
    "from models import get_net \n",
    "from models.modules import (\n",
    "    FC_vec,\n",
    "    FC_image,\n",
    "    IsotropicGaussian,\n",
    "    ConvNet28,\n",
    "    DeConvNet28,\n",
    "    PreTrained_Model\n",
    ")\n",
    "from omegaconf import OmegaConf"
   ]
  },
  {
   "cell_type": "code",
   "execution_count": 24,
   "metadata": {},
   "outputs": [
    {
     "ename": "SyntaxError",
     "evalue": "f-string: cannot use double starred expression here (2808115615.py, line 33)",
     "output_type": "error",
     "traceback": [
      "\u001b[0;36m  Input \u001b[0;32mIn [24]\u001b[0;36m\u001b[0m\n\u001b[0;31m    print(f\"Jv.shape: {**(Jv.size())}\")\u001b[0m\n\u001b[0m    ^\u001b[0m\n\u001b[0;31mSyntaxError\u001b[0m\u001b[0;31m:\u001b[0m f-string: cannot use double starred expression here\n"
     ]
    }
   ],
   "source": [
    "def relaxed_distortion_measure(func, z, eta=0.2, metric='identity', create_graph=True):\n",
    "    if metric == 'identity':\n",
    "        bs = len(z)\n",
    "        z_perm = z[torch.randperm(bs)]\n",
    "        if eta is not None:\n",
    "            alpha = (torch.rand(bs) * (1 + 2*eta) - eta).unsqueeze(1).to(z)\n",
    "            z_augmented = alpha*z + (1-alpha)*z_perm\n",
    "        else:\n",
    "            z_augmented = z\n",
    "        v = torch.randn(z.size()).to(z)\n",
    "        Jv = torch.autograd.functional.jvp(func, z_augmented, v=v, create_graph=create_graph)[1]\n",
    "        TrG = torch.sum(Jv.view(bs, -1)**2, dim=1).mean()\n",
    "        JTJv = (torch.autograd.functional.vjp(func, z_augmented, v=Jv, create_graph=create_graph)[1]).view(bs, -1)\n",
    "        TrG2 = torch.sum(JTJv**2, dim=1).mean()\n",
    "        return TrG2/TrG**2\n",
    "\n",
    "    elif isinstance(metric, PreTrained_Model):\n",
    "        model = metric.class_name()\n",
    "        model.load_state_dict(torch.load(metric.parameter_path))\n",
    "        \n",
    "        bs = len(z)\n",
    "        z_perm = z[torch.randperm(bs)]\n",
    "        if eta is not None:\n",
    "            alpha = (torch.rand(bs) * (1 + 2*eta) - eta).unsqueeze(1).to(z)\n",
    "            z_augmented = alpha*z + (1-alpha)*z_perm\n",
    "        else:\n",
    "            z_augmented = z\n",
    "\n",
    "        v = torch.randn(z.size()).to(z)\n",
    "        print(f\"v.shape: {v.shape}\")\n",
    "        print(f\"z_augmented.shape: {z_augmented.shape}\")\n",
    "        Jv = torch.autograd.functional.jvp(func, z_augmented, v=v, create_graph=create_graph)[1]\n",
    "        print(f\"Jv.shape: {Jv.size()}\")\n",
    "        HJv = torch.autograd.functional.jvp(model, func(z_augmented), v=Jv, create_graph=create_graph)[1]\n",
    "\n",
    "        TrG = torch.sum(HJv.view(bs, -1)**2, dim=1).mean()\n",
    "\n",
    "        print(f\"HJv.shape: {HJv.shape}\")\n",
    "        HTHJv = (torch.autograd.functional.vjp(model, func(z_augmented), v=HJv, create_graph=create_graph)[1]).view(bs, -1)\n",
    "        print(f\"HTHJv.shape: {HTHJv.shape}\")\n",
    "        print(f\"z_augmented.shape: {z_augmented.shape}\")\n",
    "        JTHTHJv = (torch.autograd.functional.vjp(func, z_augmented, v=HTHJv.view(bs, Jv.shape[1], Jv.shape[2], Jv.shape[3]), create_graph=create_graph)[1]).view(bs, -1)\n",
    "\n",
    "        TrG2 = torch.sum(JTHTHJv**2, dim=1).mean()\n",
    "\n",
    "        return TrG2/TrG**2\n",
    "\n",
    "    else:\n",
    "        raise NotImplementedError\n"
   ]
  },
  {
   "cell_type": "code",
   "execution_count": 25,
   "metadata": {},
   "outputs": [],
   "source": [
    "cfg = OmegaConf.load('configs/mnist_irvae_z2_pretrain.yml')\n",
    "\n",
    "if \"model\" in cfg:\n",
    "    model_dict = cfg[\"model\"]\n",
    "elif \"arch\" in cfg:\n",
    "    model_dict = cfg\n",
    "\n",
    "\n",
    "x_dim = model_dict['x_dim']\n",
    "z_dim = model_dict['z_dim']\n",
    "arch = model_dict[\"arch\"]\n",
    "\n",
    "metric = PreTrained_Model(\"simple_linear\", \"models/saved_model/simple_linear.pt\")\n",
    "iso_reg = 1.0\n",
    "encoder = get_net(in_dim=x_dim, out_dim=z_dim * 2, **model_dict[\"encoder\"])\n",
    "decoder = get_net(in_dim=z_dim, out_dim=x_dim, **model_dict[\"decoder\"])\n",
    "model = IRVAE(encoder, IsotropicGaussian(decoder), iso_reg=iso_reg, metric=metric)\n"
   ]
  },
  {
   "cell_type": "code",
   "execution_count": 26,
   "metadata": {},
   "outputs": [
    {
     "name": "stdout",
     "output_type": "stream",
     "text": [
      "FC_image(\n",
      "  (net): Sequential(\n",
      "    (0): Linear(in_features=784, out_features=256, bias=True)\n",
      "    (1): ReLU(inplace=True)\n",
      "    (2): Linear(in_features=256, out_features=256, bias=True)\n",
      "    (3): ReLU(inplace=True)\n",
      "    (4): Linear(in_features=256, out_features=256, bias=True)\n",
      "    (5): ReLU(inplace=True)\n",
      "    (6): Linear(in_features=256, out_features=256, bias=True)\n",
      "    (7): ReLU(inplace=True)\n",
      "    (8): Linear(in_features=256, out_features=4, bias=True)\n",
      "  )\n",
      ")\n",
      "torch.Size([100, 4])\n",
      "torch.Size([100, 2])\n",
      "v.shape: torch.Size([100, 2])\n",
      "z_augmented.shape: torch.Size([100, 2])\n",
      "Jv.shape: torch.Size([100, 1, 28, 28])\n",
      "HJv.shape: torch.Size([100, 10])\n",
      "HTHJv.shape: torch.Size([100, 784])\n",
      "z_augmented.shape: torch.Size([100, 2])\n"
     ]
    },
    {
     "ename": "RuntimeError",
     "evalue": "shape '[100, 1]' is invalid for input of size 78400",
     "output_type": "error",
     "traceback": [
      "\u001b[0;31m---------------------------------------------------------------------------\u001b[0m",
      "\u001b[0;31mRuntimeError\u001b[0m                              Traceback (most recent call last)",
      "\u001b[1;32m/home/cspark/IRVAE-public/dummy.ipynb Cell 4\u001b[0m in \u001b[0;36m<cell line: 7>\u001b[0;34m()\u001b[0m\n\u001b[1;32m      <a href='vscode-notebook-cell://ssh-remote%2B7b22686f73744e616d65223a2247505531325f63737061726b227d/home/cspark/IRVAE-public/dummy.ipynb#W3sdnNjb2RlLXJlbW90ZQ%3D%3D?line=4'>5</a>\u001b[0m z_sample \u001b[39m=\u001b[39m model\u001b[39m.\u001b[39msample_latent(z)\n\u001b[1;32m      <a href='vscode-notebook-cell://ssh-remote%2B7b22686f73744e616d65223a2247505531325f63737061726b227d/home/cspark/IRVAE-public/dummy.ipynb#W3sdnNjb2RlLXJlbW90ZQ%3D%3D?line=5'>6</a>\u001b[0m \u001b[39mprint\u001b[39m(z_sample\u001b[39m.\u001b[39mshape)\n\u001b[0;32m----> <a href='vscode-notebook-cell://ssh-remote%2B7b22686f73744e616d65223a2247505531325f63737061726b227d/home/cspark/IRVAE-public/dummy.ipynb#W3sdnNjb2RlLXJlbW90ZQ%3D%3D?line=6'>7</a>\u001b[0m iso_loss \u001b[39m=\u001b[39m relaxed_distortion_measure(model\u001b[39m.\u001b[39;49mdecode, z_sample, eta\u001b[39m=\u001b[39;49m\u001b[39m0.2\u001b[39;49m, metric\u001b[39m=\u001b[39;49mmodel\u001b[39m.\u001b[39;49mmetric)\n",
      "\u001b[1;32m/home/cspark/IRVAE-public/dummy.ipynb Cell 4\u001b[0m in \u001b[0;36mrelaxed_distortion_measure\u001b[0;34m(func, z, eta, metric, create_graph)\u001b[0m\n\u001b[1;32m     <a href='vscode-notebook-cell://ssh-remote%2B7b22686f73744e616d65223a2247505531325f63737061726b227d/home/cspark/IRVAE-public/dummy.ipynb#W3sdnNjb2RlLXJlbW90ZQ%3D%3D?line=39'>40</a>\u001b[0m \u001b[39mprint\u001b[39m(\u001b[39mf\u001b[39m\u001b[39m\"\u001b[39m\u001b[39mHTHJv.shape: \u001b[39m\u001b[39m{\u001b[39;00mHTHJv\u001b[39m.\u001b[39mshape\u001b[39m}\u001b[39;00m\u001b[39m\"\u001b[39m)\n\u001b[1;32m     <a href='vscode-notebook-cell://ssh-remote%2B7b22686f73744e616d65223a2247505531325f63737061726b227d/home/cspark/IRVAE-public/dummy.ipynb#W3sdnNjb2RlLXJlbW90ZQ%3D%3D?line=40'>41</a>\u001b[0m \u001b[39mprint\u001b[39m(\u001b[39mf\u001b[39m\u001b[39m\"\u001b[39m\u001b[39mz_augmented.shape: \u001b[39m\u001b[39m{\u001b[39;00mz_augmented\u001b[39m.\u001b[39mshape\u001b[39m}\u001b[39;00m\u001b[39m\"\u001b[39m)\n\u001b[0;32m---> <a href='vscode-notebook-cell://ssh-remote%2B7b22686f73744e616d65223a2247505531325f63737061726b227d/home/cspark/IRVAE-public/dummy.ipynb#W3sdnNjb2RlLXJlbW90ZQ%3D%3D?line=41'>42</a>\u001b[0m JTHTHJv \u001b[39m=\u001b[39m (torch\u001b[39m.\u001b[39mautograd\u001b[39m.\u001b[39mfunctional\u001b[39m.\u001b[39mvjp(func, z_augmented, v\u001b[39m=\u001b[39mHTHJv\u001b[39m.\u001b[39;49mview(bs, \u001b[39m1\u001b[39;49m, ), create_graph\u001b[39m=\u001b[39mcreate_graph)[\u001b[39m1\u001b[39m])\u001b[39m.\u001b[39mview(bs, \u001b[39m-\u001b[39m\u001b[39m1\u001b[39m)\n\u001b[1;32m     <a href='vscode-notebook-cell://ssh-remote%2B7b22686f73744e616d65223a2247505531325f63737061726b227d/home/cspark/IRVAE-public/dummy.ipynb#W3sdnNjb2RlLXJlbW90ZQ%3D%3D?line=43'>44</a>\u001b[0m TrG2 \u001b[39m=\u001b[39m torch\u001b[39m.\u001b[39msum(JTHTHJv\u001b[39m*\u001b[39m\u001b[39m*\u001b[39m\u001b[39m2\u001b[39m, dim\u001b[39m=\u001b[39m\u001b[39m1\u001b[39m)\u001b[39m.\u001b[39mmean()\n\u001b[1;32m     <a href='vscode-notebook-cell://ssh-remote%2B7b22686f73744e616d65223a2247505531325f63737061726b227d/home/cspark/IRVAE-public/dummy.ipynb#W3sdnNjb2RlLXJlbW90ZQ%3D%3D?line=45'>46</a>\u001b[0m \u001b[39mreturn\u001b[39;00m TrG2\u001b[39m/\u001b[39mTrG\u001b[39m*\u001b[39m\u001b[39m*\u001b[39m\u001b[39m2\u001b[39m\n",
      "\u001b[0;31mRuntimeError\u001b[0m: shape '[100, 1]' is invalid for input of size 78400"
     ]
    }
   ],
   "source": [
    "print(model.encoder)\n",
    "x = torch.rand(100, 1, 28, 28)\n",
    "z = model.encoder(x)\n",
    "print(z.shape)\n",
    "z_sample = model.sample_latent(z)\n",
    "print(z_sample.shape)\n",
    "iso_loss = relaxed_distortion_measure(model.decode, z_sample, eta=0.2, metric=model.metric)"
   ]
  },
  {
   "cell_type": "code",
   "execution_count": null,
   "metadata": {},
   "outputs": [],
   "source": []
  }
 ],
 "metadata": {
  "kernelspec": {
   "display_name": "Python 3.10.8 ('IRVAE')",
   "language": "python",
   "name": "python3"
  },
  "language_info": {
   "codemirror_mode": {
    "name": "ipython",
    "version": 3
   },
   "file_extension": ".py",
   "mimetype": "text/x-python",
   "name": "python",
   "nbconvert_exporter": "python",
   "pygments_lexer": "ipython3",
   "version": "3.10.8 (main, Nov 24 2022, 14:13:03) [GCC 11.2.0]"
  },
  "orig_nbformat": 4,
  "vscode": {
   "interpreter": {
    "hash": "062e448715975d9e6d46896e5681a53ce2a1328fa2b944f7e99058547cb3d83d"
   }
  }
 },
 "nbformat": 4,
 "nbformat_minor": 2
}

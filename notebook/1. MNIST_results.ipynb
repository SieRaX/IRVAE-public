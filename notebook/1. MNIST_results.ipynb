{
 "cells": [
  {
   "cell_type": "code",
   "execution_count": null,
   "metadata": {},
   "outputs": [],
   "source": [
    "import sys, os\n",
    "import numpy as np\n",
    "import matplotlib.pyplot as plt\n",
    "sys.path.append('../')\n",
    "\n",
    "import torch, torchvision\n",
    "import torch.nn.functional as F\n",
    "from torchvision.models import vit_b_16, ViT_B_16_Weights\n",
    "from sklearn.svm import LinearSVC\n",
    "from sklearn.discriminant_analysis import LinearDiscriminantAnalysis\n",
    "from sklearn.mixture import GaussianMixture\n",
    "from sklearn.metrics import homogeneity_score, silhouette_score\n",
    "\n",
    "from loader.MNIST_dataset import MNIST\n",
    "from models import load_pretrained\n",
    "from loader import get_dataloader\n",
    "from geometry import get_pullbacked_Riemannian_metric \n",
    "from utils.utils import label_to_color, figure_to_array, PD_metric_to_ellipse\n",
    "\n",
    "device = f'cuda:0'"
   ]
  },
  {
   "cell_type": "markdown",
   "metadata": {},
   "source": [
    "## 1. Select Trained Model"
   ]
  },
  {
   "cell_type": "code",
   "execution_count": null,
   "metadata": {},
   "outputs": [],
   "source": [
    "# # MNIST digits 0, 1\n",
    "# vae, cfg = load_pretrained(\n",
    "#     identifier='MNIST/DIM_2/vae_mnist_01',\n",
    "#     config_file='mnist_vae_z2.yml',\n",
    "#     ckpt_file='model_best.pkl',\n",
    "#     root='../results'\n",
    "# )\n",
    "# irvae, cfg = load_pretrained(\n",
    "#     identifier='MNIST/DIM_2/irvae_mnist_01',\n",
    "#     config_file='mnist_irvae_z2.yml',\n",
    "#     ckpt_file='model_best.pkl',\n",
    "#     root='../results'\n",
    "# )\n",
    "\n",
    "# # MNIST digits 0, 1, 5\n",
    "# vae, cfg = load_pretrained(\n",
    "#     identifier='MNIST/DIM_2/vae_mnist_015',\n",
    "#     config_file='mnist_vae_z2.yml',\n",
    "#     ckpt_file='model_best.pkl',\n",
    "#     root='../results'\n",
    "# )\n",
    "# irvae, cfg = load_pretrained(\n",
    "#     identifier='MNIST/DIM_2/irvae_mnist_015',\n",
    "#     config_file='mnist_irvae_z2.yml',\n",
    "#     ckpt_file='model_best.pkl',\n",
    "#     root='../results'\n",
    "# )\n",
    "\n",
    "# # MNIST digits 0, 1, 3, 6, 7\n",
    "# vae, cfg = load_pretrained(\n",
    "#     identifier='MNIST/DIM_2/vae_mnist_01367',\n",
    "#     config_file='mnist_vae_z2.yml',\n",
    "#     ckpt_file='model_best.pkl',\n",
    "#     root='../results'\n",
    "# )\n",
    "# irvae, cfg = load_pretrained(\n",
    "#     identifier='MNIST/DIM_2/irvae_mnist_01367',\n",
    "#     config_file='mnist_irvae_z2.yml',\n",
    "#     ckpt_file='model_best.pkl',\n",
    "#     root='../results'\n",
    "# )\n",
    "\n",
    "# MNIST digits 0, 1, 3, 6, 7\n",
    "irvae, cfg = load_pretrained(\n",
    "    identifier='MNIST/DIM_2/irvae_mnist_01_isoreg_100',\n",
    "    config_file='mnist_irvae_z2.yml',\n",
    "    ckpt_file='model_best.pkl',\n",
    "    root='../results'\n",
    ")\n",
    "\n",
    "irvae_pretrain, cfg = load_pretrained(\n",
    "    identifier='MNIST/DIM_2/irvae_mnist_pretrain_01_isoreg_100',\n",
    "    config_file='mnist_irvae_z2_pretrain.yml',\n",
    "    ckpt_file='model_best.pkl',\n",
    "    root='../results'\n",
    ")\n",
    "\n",
    "irvae.to(device);\n",
    "irvae_pretrain.to(device);\n",
    "\n",
    "type(irvae_pretrain).__name__"
   ]
  },
  {
   "cell_type": "markdown",
   "metadata": {},
   "source": [
    "## 2. Get Data Loader"
   ]
  },
  {
   "cell_type": "code",
   "execution_count": null,
   "metadata": {},
   "outputs": [],
   "source": [
    "val_data_cfg = cfg['data']['validation']\n",
    "\n",
    "val_data_cfg['root'] = '../dataset'\n",
    "dl = get_dataloader(val_data_cfg)"
   ]
  },
  {
   "attachments": {},
   "cell_type": "markdown",
   "metadata": {},
   "source": [
    "## 3. Data Encoding wiht VAE and IRVAE"
   ]
  },
  {
   "cell_type": "code",
   "execution_count": null,
   "metadata": {},
   "outputs": [],
   "source": [
    "# num_points_for_each_class = 200\n",
    "num_points_for_each_class = 2\n",
    "num_G_plots_for_each_class = 2\n",
    "label_unique = torch.unique(dl.dataset.targets)\n",
    "print(label_unique)\n",
    "\n",
    "# get model\n",
    "from models.modules import Net\n",
    "\n",
    "net = Net()\n",
    "net.load_state_dict(torch.load('../models/saved_model/simple_linear.pt'))\n",
    "net.to(device)\n",
    "\n",
    "class pretrained_enhanced_Net(torch.nn.Module):\n",
    "    def __init__(self):\n",
    "        super(pretrained_enhanced_Net, self).__init__()\n",
    "        self.f1 = irvae_pretrain.decode\n",
    "        self.f2 = net\n",
    "    \n",
    "    def forward(self, x):\n",
    "        x = self.f1(x)\n",
    "        return self.f2(x)\n",
    "pre_trained_enhanced_net = pretrained_enhanced_Net()"
   ]
  },
  {
   "cell_type": "markdown",
   "metadata": {},
   "source": [
    "## 4. Visualize Encodings"
   ]
  },
  {
   "cell_type": "markdown",
   "metadata": {},
   "source": [
    "### 4.1 VAE"
   ]
  },
  {
   "cell_type": "code",
   "execution_count": null,
   "metadata": {},
   "outputs": [],
   "source": [
    "def plot_irave_result(encoder_network, decoder_network, number_of_oval=1):\n",
    "    if type(decoder_network).__name__ == 'IsotropicGaussian':\n",
    "        title = 'Isometric Representation (IRVAE)'\n",
    "    elif type(decoder_network).__name__ == 'pretrained_enhanced_Net':\n",
    "        title = 'Isometric Representation (IRVAE Pretrained)'\n",
    "    else:\n",
    "        title = 'Isometric Representation (IRVAE VIT Prtrained)'\n",
    "\n",
    "    z_ = []\n",
    "    z_sampled_ = []\n",
    "    label_ = []\n",
    "    label_sampled_ = []\n",
    "    G_ = []\n",
    "\n",
    "    for label in label_unique:\n",
    "        temp_data = dl.dataset.data[dl.dataset.targets == label][:num_points_for_each_class]\n",
    "        temp_z = encoder_network(temp_data.to(device))\n",
    "        z_sampled = temp_z[torch.randperm(len(temp_z))[:num_G_plots_for_each_class]]\n",
    "        G = get_pullbacked_Riemannian_metric(decoder_network, z_sampled)\n",
    "\n",
    "        z_.append(temp_z)\n",
    "        label_.append(label.repeat(temp_z.size(0)))\n",
    "        z_sampled_.append(z_sampled)\n",
    "        label_sampled_.append(label.repeat(z_sampled.size(0)))\n",
    "        G_.append(G)\n",
    "\n",
    "    irvae_z_ = torch.cat(z_, dim=0).detach().cpu().numpy()\n",
    "    irvae_z_max, irvae_z_min = np.max(irvae_z_, axis=0), np.min(irvae_z_, axis=0)\n",
    "    irvae_label_ = torch.cat(label_, dim=0).detach().cpu().numpy()\n",
    "    irvae_color_ = label_to_color(irvae_label_)\n",
    "    irvae_G_ = torch.cat(G_, dim=0).detach().cpu()\n",
    "    irvae_z_sampled_ = torch.cat(z_sampled_, dim=0).detach().cpu().numpy()\n",
    "    irvae_label_sampled_ = torch.cat(label_sampled_, dim=0).detach().cpu().numpy()\n",
    "    irvae_color_sampled_ = label_to_color(irvae_label_sampled_)\n",
    "\n",
    "    # clustering_model = GaussianMixture(n_components=len(label_unique), random_state=32)\n",
    "    # clustering_model.fit(irvae_z_)\n",
    "\n",
    "    clustering_model = LinearSVC(random_state=32)\n",
    "    clustering_model = LinearDiscriminantAnalysis()\n",
    "    clustering_model .fit(irvae_z_, irvae_label_)\n",
    "\n",
    "    plt.rc('font', size=12)\n",
    "    index = cfg['data']['training']['digits'].split('_')[1]\n",
    "    size = 2\n",
    "\n",
    "    f = plt.figure(1)\n",
    "    z_scale = np.minimum(np.max(irvae_z_, axis=0), np.min(irvae_z_, axis=0))\n",
    "    eig_mean = torch.svd(irvae_G_).S.mean().item()\n",
    "    scale = 0.1 * z_scale * np.sqrt(eig_mean)\n",
    "    alpha = 0.3\n",
    "\n",
    "    x_grid = np.arange(irvae_z_min[0], irvae_z_max[0], 0.01)\n",
    "    y_grid = np.arange(irvae_z_min[1], irvae_z_max[1], 0.01)\n",
    "    \n",
    "    # xx, yy = np.meshgrid(x_grid, y_grid)\n",
    "    # xx = np.expand_dims(xx.reshape((-1, )), axis=1)\n",
    "    # yy = np.expand_dims(yy.reshape((-1, )), axis=1)\n",
    "    # X = np.concatenate((xx, yy), axis=1)\n",
    "    # pred_X = svc_model.predict(X)\n",
    "    # plt.scatter(X[:, 0], X[:, 1], c = pred_X)\n",
    "\n",
    "    predicted_label = clustering_model.predict(irvae_z_)\n",
    "    # print(f\"irvae_label: {irvae_label_}\")\n",
    "    # print(f\"predicted_label: {predicted_label}\")\n",
    "    homo_score = homogeneity_score(irvae_label_, predicted_label)\n",
    "    sil_score = silhouette_score(irvae_z_, irvae_label_, metric='euclidean', sample_size=irvae_z_.shape[0])\n",
    "\n",
    "    boundary_coord = []\n",
    "\n",
    "    for j in y_grid:\n",
    "        original_X = clustering_model.predict(np.array([[x_grid[0], j]]))[0]\n",
    "        for i in x_grid:\n",
    "            predict_X = clustering_model.predict(np.array([[i, j]]))[0]\n",
    "            if i != 0 and (original_X != predict_X):\n",
    "                boundary_coord.append([i, j])\n",
    "                original_X = predict_X\n",
    "\n",
    "    boundary_coord = np.array(boundary_coord)\n",
    "\n",
    "    plt.scatter(boundary_coord[:, 0], boundary_coord[:, 1], c='k', s=size)\n",
    "    # get G for boundary\n",
    "    boundary_G = get_pullbacked_Riemannian_metric(decoder_network, torch.tensor(boundary_coord, dtype=torch.float32).to(device)).detach().cpu().numpy()\n",
    "\n",
    "    for i in range(0, boundary_G.shape[0], boundary_G.shape[0]//number_of_oval):\n",
    "        e = PD_metric_to_ellipse(np.linalg.inv(boundary_G[i,:,:]), boundary_coord[i,:], scale, fc='k', alpha=alpha)\n",
    "        plt.gca().add_artist(e)\n",
    "\n",
    "    # for idx in range(len(irvae_z_sampled_)):\n",
    "    #     e = PD_metric_to_ellipse(np.linalg.inv(irvae_G_[idx,:,:]), irvae_z_sampled_[idx,:], scale, fc=irvae_color_sampled_[idx,:]/255.0, alpha=alpha)\n",
    "    #     plt.gca().add_artist(e)\n",
    "    for label in label_unique:\n",
    "        label = label.item()\n",
    "        plt.scatter(irvae_z_[irvae_label_==label,0], irvae_z_[irvae_label_==label,1], c=irvae_color_[irvae_label_==label]/255, label=label, s=size)\n",
    "    plt.legend()\n",
    "    plt.axis('equal')\n",
    "    plt.title(title)\n",
    "    # plt.savefig(f'../figure/irvae{index}.png')\n",
    "    plt.show()\n",
    "\n",
    "    print(sil_score)\n",
    "    return homo_score, sil_score\n"
   ]
  },
  {
   "cell_type": "code",
   "execution_count": null,
   "metadata": {},
   "outputs": [],
   "source": [
    "def print_score(score_dict):\n",
    "    for key in score_dict.keys():\n",
    "        print(f\"{key}\", end=\"|\")\n",
    "    print()\n",
    "    for key in score_dict.keys():\n",
    "        print(\"-\"*len(key), end=\"+\")\n",
    "    print()\n",
    "    for key in score_dict.keys():\n",
    "        print(f\"{score_dict[key]:{len(key)}.3f}\", end=\"|\")"
   ]
  },
  {
   "attachments": {},
   "cell_type": "markdown",
   "metadata": {},
   "source": [
    "### 4.3 IRVAE"
   ]
  },
  {
   "cell_type": "code",
   "execution_count": null,
   "metadata": {},
   "outputs": [],
   "source": [
    "irvae_homo_score, irvae_sil_score = plot_irave_result(irvae.encode, irvae.decoder)\n",
    "print_score({'homogenity': irvae_homo_score, 'silhouette': irvae_sil_score})"
   ]
  },
  {
   "attachments": {},
   "cell_type": "markdown",
   "metadata": {},
   "source": [
    "### 4.2 IRVAE (Pretrained)"
   ]
  },
  {
   "cell_type": "code",
   "execution_count": null,
   "metadata": {},
   "outputs": [],
   "source": [
    "pretrained_irvae_homo_score, pretrained_irvae_sil_score = plot_irave_result(irvae_pretrain.encode, pre_trained_enhanced_net, number_of_oval=1)\n",
    "print_score({'homogenity':pretrained_irvae_homo_score, 'silhouette':pretrained_irvae_sil_score})"
   ]
  },
  {
   "attachments": {},
   "cell_type": "markdown",
   "metadata": {},
   "source": [
    "### 4.3 IRVAE (VIT pretrained)"
   ]
  },
  {
   "cell_type": "code",
   "execution_count": null,
   "metadata": {},
   "outputs": [],
   "source": [
    "class VIT_pretrained_decoder(torch.nn.Module):\n",
    "    def __init__(self):\n",
    "        super(VIT_pretrained_decoder, self).__init__()\n",
    "        self.f1 = irvae_pretrain.decode\n",
    "        self.vit = vit_b_16(weights=ViT_B_16_Weights.IMAGENET1K_V1)\n",
    "        self.vit.to(device=device)\n",
    "\n",
    "    def forward(self, x):\n",
    "        x = self.f1(x)\n",
    "        x = F.interpolate(x, size=(224, 224), mode='bilinear')\n",
    "        x = x.repeat(1, 3, 1, 1)\n",
    "        x = self.vit(x)\n",
    "\n",
    "        return x\n",
    "\n",
    "vit_pretrained_decoder = VIT_pretrained_decoder()\n"
   ]
  },
  {
   "cell_type": "code",
   "execution_count": null,
   "metadata": {},
   "outputs": [],
   "source": [
    "irvae_homo_score_VIT, irvae_sil_score_VIT = plot_irave_result(irvae_pretrain.encode, vit_pretrained_decoder, number_of_oval=1)\n",
    "\n",
    "print_score({'homogenity':irvae_homo_score_VIT, \\\n",
    "     'silhouette':irvae_sil_score_VIT})"
   ]
  },
  {
   "cell_type": "markdown",
   "metadata": {},
   "source": [
    "### 4.3 Traditional Manifold Leanring (IsoMap)"
   ]
  },
  {
   "cell_type": "code",
   "execution_count": null,
   "metadata": {},
   "outputs": [],
   "source": [
    "from sklearn.manifold import Isomap\n",
    "X = dl.dataset.data\n",
    "X = X.view(len(X), -1)\n",
    "\n",
    "embedding = Isomap(n_components=2)\n",
    "X_transformed = embedding.fit_transform(X)\n",
    "X_transformed = torch.tensor(X_transformed, dtype=torch.float)"
   ]
  },
  {
   "cell_type": "code",
   "execution_count": null,
   "metadata": {},
   "outputs": [],
   "source": [
    "num_points_for_each_class = 200\n",
    "z_ = []\n",
    "label_ = []\n",
    "for label in label_unique:\n",
    "    temp_z = X_transformed[dl.dataset.targets == label][:num_points_for_each_class]\n",
    "    z_.append(temp_z)\n",
    "    label_.append(label.repeat(temp_z.size(0)))\n",
    "\n",
    "isomap_z_ = torch.cat(z_, dim=0).detach().cpu().numpy()\n",
    "isomap_label_ = torch.cat(label_, dim=0).detach().cpu().numpy()\n",
    "isomap_color_ = label_to_color(isomap_label_)"
   ]
  },
  {
   "cell_type": "code",
   "execution_count": null,
   "metadata": {},
   "outputs": [],
   "source": [
    "f = plt.figure(2)\n",
    "for label in label_unique:\n",
    "    label = label.item()\n",
    "    plt.scatter(isomap_z_[isomap_label_==label, 0], isomap_z_[isomap_label_==label, 1], c=isomap_color_[isomap_label_==label]/255, label=label, s=size)\n",
    "plt.legend()\n",
    "plt.axis('equal')\n",
    "plt.title('Manifold Learning (Isomap)')\n",
    "# plt.savefig(f'../figure/Isomap{index}.png')\n",
    "plt.show()"
   ]
  },
  {
   "cell_type": "markdown",
   "metadata": {},
   "source": [
    "## 5. Interpolations"
   ]
  },
  {
   "cell_type": "code",
   "execution_count": null,
   "metadata": {},
   "outputs": [],
   "source": [
    "label1 = 0\n",
    "label2 = 1"
   ]
  },
  {
   "cell_type": "code",
   "execution_count": null,
   "metadata": {},
   "outputs": [],
   "source": [
    "X = dl.dataset.data\n",
    "y = dl.dataset.targets\n",
    "data1 = X[y == label1][0:1].to(device)\n",
    "data2 = X[y == label2][0:1].to(device)"
   ]
  },
  {
   "cell_type": "code",
   "execution_count": null,
   "metadata": {},
   "outputs": [],
   "source": [
    "z1_irvae = irvae.encode(data1)\n",
    "z2_irvae = irvae.encode(data2)\n",
    "z1_vae = vae.encode(data1)\n",
    "z2_vae = vae.encode(data2)"
   ]
  },
  {
   "cell_type": "code",
   "execution_count": null,
   "metadata": {},
   "outputs": [],
   "source": [
    "linterp_irvae = torch.cat([z1_irvae + (z2_irvae-z1_irvae) * t/19 for t in range(20)], dim=0)\n",
    "linterp_vae = torch.cat([z1_vae + (z2_vae-z1_vae) * t/19 for t in range(20)], dim=0)\n",
    "x_interp_irvae = irvae.decode(linterp_irvae).detach().cpu()\n",
    "x_interp_vae = vae.decode(linterp_vae).detach().cpu()"
   ]
  },
  {
   "cell_type": "code",
   "execution_count": null,
   "metadata": {},
   "outputs": [],
   "source": [
    "f = plt.figure(3, figsize=(10,10))\n",
    "plt.rc('font', size=12)\n",
    "index = cfg['data']['training']['digits'].split('_')[1]\n",
    "size = 5\n",
    "\n",
    "ax1 = f.add_subplot(2, 2, 1)\n",
    "ax2 = f.add_subplot(2, 2, 2) \n",
    "ax3 = f.add_subplot(2, 2, 3)\n",
    "ax4 = f.add_subplot(2, 2, 4)\n",
    "\n",
    "for label in label_unique:\n",
    "    label = label.item()\n",
    "    ax1.scatter(vae_z_[vae_label_==label,0], vae_z_[vae_label_==label,1], c=vae_color_[vae_label_==label]/255, label=label, s=size)\n",
    "ax1.plot(linterp_vae[:,0].detach().cpu(), linterp_vae[:,1].detach().cpu(), linewidth=3, color='k')\n",
    "ax1.set_aspect('equal')\n",
    "ax1.set_title('VAE')\n",
    "\n",
    "for label in label_unique:\n",
    "    label = label.item()\n",
    "    ax2.scatter(irvae_z_[irvae_label_==label,0], irvae_z_[irvae_label_==label,1], c=irvae_color_[irvae_label_==label]/255, label=label, s=size)\n",
    "ax2.plot(linterp_irvae[:,0].detach().cpu(), linterp_irvae[:,1].detach().cpu(), '--', linewidth=3, color='k')\n",
    "ax2.set_aspect('equal')\n",
    "ax2.set_title('IRVAE')\n",
    "\n",
    "ax3.imshow(\n",
    "    torchvision.utils.make_grid(\n",
    "        torch.cat([x_interp_vae], dim=0), nrow=10, value_range=(0, 1), pad_value=1\n",
    "        ).permute(1,2,0))\n",
    "ax3.axis('off')\n",
    "\n",
    "ax4.imshow(\n",
    "    torchvision.utils.make_grid(\n",
    "        torch.cat([x_interp_irvae], dim=0), nrow=10, value_range=(0, 1), pad_value=1\n",
    "        ).permute(1,2,0))\n",
    "ax4.axis('off')\n",
    "\n",
    "f.supxlabel('Generated images from linear interpolants (from upper-left to lower-right)', y=0.385)\n",
    "f.tight_layout(pad=2, h_pad=0)\n",
    "plt.suptitle('Latent Space Linear Interpolations', fontsize=20, y=1)\n",
    "plt.savefig(f'../figure/LSLI{index}.png', bbox_inches='tight')\n",
    "plt.show()"
   ]
  },
  {
   "cell_type": "code",
   "execution_count": null,
   "metadata": {},
   "outputs": [],
   "source": []
  }
 ],
 "metadata": {
  "kernelspec": {
   "display_name": "Python 3.10.8 ('IRVAE')",
   "language": "python",
   "name": "python3"
  },
  "language_info": {
   "codemirror_mode": {
    "name": "ipython",
    "version": 3
   },
   "file_extension": ".py",
   "mimetype": "text/x-python",
   "name": "python",
   "nbconvert_exporter": "python",
   "pygments_lexer": "ipython3",
   "version": "3.10.8"
  },
  "orig_nbformat": 4,
  "vscode": {
   "interpreter": {
    "hash": "062e448715975d9e6d46896e5681a53ce2a1328fa2b944f7e99058547cb3d83d"
   }
  }
 },
 "nbformat": 4,
 "nbformat_minor": 2
}
